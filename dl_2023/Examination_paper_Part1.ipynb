{
 "cells": [
  {
   "cell_type": "markdown",
   "metadata": {},
   "source": [
    "# 《深度学习基础》考生信息\n",
    "\n",
    "### 姓名：\n",
    "\n",
    "### 学号：\n",
    "\n",
    "### 年级：\n",
    "\n",
    "### 学院：\n",
    "\n",
    "### 日期："
   ]
  },
  {
   "cell_type": "code",
   "execution_count": 2,
   "metadata": {},
   "outputs": [],
   "source": [
    "import torch\n",
    "import torch.nn as nn\n",
    "import torch.nn.functional as F\n",
    "import torch.optim as optim\n",
    "from torchvision import datasets, transforms\n",
    "\n",
    "import numpy as np\n",
    "import matplotlib.pyplot as plt\n"
   ]
  },
  {
   "cell_type": "markdown",
   "metadata": {},
   "source": [
    "# （一）选择题和判断题\n",
    "### (1) 全连接网络每层执行运算是什么？（选择题, 2分）\n",
    "- a. 先执行 $a=W_1x+b_1$运算, 然后执行$y_2 = W_2 a + b_2$运算。\n",
    "- b. 先执行非线性运算$a = g(x)$, 然后执行$y = Wa+b$。\n",
    "- c. 先计算$a = g_1(x)$，然后执行非线性运算$y = g_2(a)$\n",
    "- d. 先执行$a = Wx+b$运算，然后执行非线性运算$y=g(a)$。\n",
    "\n",
    "答案："
   ]
  },
  {
   "cell_type": "markdown",
   "metadata": {},
   "source": [
    "### (2) 彩色图片$x$为数组$(3,512,512)$, 把$x$ 转换为一个列向量 （代码设计题, 1分）。然后设计sigmoid函数，并把列向量$x$输入sigmoid函数并打印出第100个元素的值（代码设计题, 2分）\n"
   ]
  },
  {
   "cell_type": "code",
   "execution_count": 3,
   "metadata": {},
   "outputs": [
    {
     "name": "stdout",
     "output_type": "stream",
     "text": [
      "torch.Size([3, 512, 512])\n"
     ]
    }
   ],
   "source": [
    "x = torch.ones(3,512,512)\n",
    "#%%%%%%%%%%%%%%%%%%%%%%%%%%%%%%%%%%%%%%%\n",
    "# 设计代码的位置 \n",
    "\n",
    "\n",
    "#%%%%%%%%%%%%%%%%%%%%%%%%%%%%%%%%%%%%%%%\n",
    "print(x.shape)\n",
    "\n",
    "#%%%%%%%%%%%%%%%%%%%%%%%%%%%%%%%%%%%%%%%\n",
    "# 设计代码的位置\n",
    "\n",
    "\n",
    "#%%%%%%%%%%%%%%%%%%%%%%%%%%%%%%%%%%%%%%%"
   ]
  },
  {
   "cell_type": "markdown",
   "metadata": {},
   "source": [
    "###  (3) 在logistic回归模型中，模型最后函数是什么？(选择题, 2分)\n",
    "- a.tanh \n",
    "- b.sigmoid\n",
    "- c.ReLU\n",
    "- d.Leaky ReLU\n",
    "\n",
    "\n",
    "答案："
   ]
  },
  {
   "cell_type": "markdown",
   "metadata": {},
   "source": [
    "### (4) “ tanh 激活函数的平均值近似为0，通常比隐藏单元的Sigmoid激活函数效果更”，该说法是否正确？（判断题, 2分）\n",
    "-a. 正确\n",
    "-b. 错误\n",
    "\n",
    "答案："
   ]
  },
  {
   "cell_type": "markdown",
   "metadata": {},
   "source": [
    "### (5) 分析代码：请问y的shape值是多少？（填空题, 2分）\n",
    "x = np.random.randn(8,5)\n",
    "\n",
    "y = np.sum(x, axis = 1, keepdims = True) \n",
    "\n",
    "y.shape = ?\n",
    "\n",
    "答案："
   ]
  },
  {
   "cell_type": "markdown",
   "metadata": {},
   "source": [
    "### (6) “随着网络模型深度的增加，处理的特征更加复杂抽象”，该说法是否正确？(判断题, 2分)\n",
    "\n",
    "- a.正确\n",
    "- b.错误\n",
    "\n",
    "答案: "
   ]
  },
  {
   "cell_type": "markdown",
   "metadata": {},
   "source": [
    "### (7) 下面哪些是超参数？（多选题, 3分）\n",
    "- a. 神经网络的层数\n",
    "- b. 神经元的线性变换矩阵和偏置\n",
    "- c. 选定的激活函数\n",
    "- d. 优化算法的学习率\n",
    "- e. 交叉熵损失函数\n",
    "- f. 网络参数优化过程中计算的梯度\n",
    "- g. 网络中的卷积层通道数\n",
    "\n",
    "答案："
   ]
  },
  {
   "cell_type": "markdown",
   "metadata": {},
   "source": [
    "### (8) “在$k$层的前向传播过程中，需要确定$k$层中的激活函数（Sigmoid，tanh，ReLU等）来计算神经元的输出， 在反向传播时，可忽略第$k$层的激活函数，仅计算线性矩阵的梯度”，该说法是否正确？（判断题, 2分）\n",
    "\n",
    "- a.正确\n",
    "- b.错误\n",
    "\n",
    "答案: "
   ]
  },
  {
   "cell_type": "markdown",
   "metadata": {},
   "source": [
    "### （9） 训练好的神经网络模型在哪类测试集上具有更好的泛化能力？（选择题, 2分）\n",
    "- a. 测试集的样本噪声比较大\n",
    "- b. 测试集的样本来源与同一分布，但可以与训练集样本的分布具有显著的差异\n",
    "- c. 泛化能力与测试集的样本来源无关\n",
    "- d. 测试集的样本与训练集的样本分布相同\n",
    "\n",
    "答案："
   ]
  },
  {
   "cell_type": "markdown",
   "metadata": {},
   "source": [
    "### （10）在神经网络模型的偏差-方差现象中，选择可以减少方差或过拟合的策略？(多选题, 3分)\n",
    "- a. 增加训练样本数\n",
    "- b. 增加神经网络的层数\n",
    "- c. 把激活函数Sigmoid修改为ReLU\n",
    "- d. $L_1$ 正则化 \n",
    "- e. 减少学习率\n",
    "- f. Dropout\n",
    "\n",
    "答案："
   ]
  },
  {
   "cell_type": "markdown",
   "metadata": {},
   "source": [
    "### (11) 在优化神经网络时，关于mini-batch的正确描述？（选择题, 2分）\n",
    "- a. mini-batch优化时，不能利用GPU同时处理所有的数据，只能读入单个样本进行梯度下降。\n",
    "- b. 使用单个样本一定会比使用mini-batch梯度下降训练网络收敛更快（1个epoch）。\n",
    "- c. mini-batch梯度下降算法不会导致损失函数（loss）振荡。\n",
    "- d. mini-batch梯度下降（在单个mini-batch上计算）的一次迭代快于梯度下降的迭代。\n",
    "\n",
    "答案： "
   ]
  },
  {
   "cell_type": "markdown",
   "metadata": {},
   "source": [
    "### (12) 在训练深度神经网络时，可采用哪些技术来减少训练时间来获得同样的精度？（多选题，3分）\n",
    "- a. 所有权重初始化为0 \n",
    "- b. 调整学习率到合适的值\n",
    "- c. 调整mini-batch的大小\n",
    "- d. 改变损失函数\n",
    "- e. 使用Adam，RMSProp,AdaGrad等自适应算法\n",
    "\n",
    "答案："
   ]
  },
  {
   "cell_type": "markdown",
   "metadata": {},
   "source": [
    "### (13) 对于深度学习编程框架Pytorch，正确的说法？（多选题, 3分 ）\n",
    "- a. Pytorch是一门计算机语言，与python语言一样具有优越的性能\n",
    "- b. Pytorch是基于对象的编程框架，具有封装、继承、多态等优势\n",
    "- c. Pytorch包的数据结构tensor与python语言的list数据结构不能相互转换\n",
    "- d. Pytorch包的tensor可在GPU上上运算，从而加快深度学习的训练过程\n",
    "- e. pytorch 框架只能运行在云计算平台\n",
    "- f.通过pytorch框架，可以使用比低级C语言更少的代码来编写深度学习算法。\n",
    "\n",
    "答案："
   ]
  },
  {
   "cell_type": "markdown",
   "metadata": {},
   "source": [
    "### （14）“神经网络所有超参数对训练模型的预测精度具有同样的影响，因而每一个超参数均应该调整到最优值”，该说法是否正确？（判断题, 2分）\n",
    "\n",
    "- a.正确\n",
    "- b.错误\n",
    "\n",
    "答案:"
   ]
  },
  {
   "cell_type": "markdown",
   "metadata": {},
   "source": [
    "### （15） 假设你的输入是一个300×300的彩色（RGB）图像，而你没有使用卷积神经网络。 如果第一个隐藏层有100个神经元，每个神经元与输入层进行全连接，那么这个隐藏层有多少个参数（包括偏置参数）？（选择题, 2分）\n",
    "- a. 9,000,001\n",
    "- b. 9,000,100\n",
    "- c. 27,000,100\n",
    "- d. 27,000,001\n",
    "\n",
    "答案："
   ]
  },
  {
   "cell_type": "markdown",
   "metadata": {},
   "source": [
    "### (16）假设你的输入是300×300彩色（RGB）图像，并且你使用卷积层和100个过滤器，每个过滤器都是5×5的大小，请问这个隐藏层有多少个参数（包括偏置参数）?（选择题, 2分）\n",
    "- a. 2501\n",
    "- b. 2600\n",
    "- c. 7500\n",
    "- d. 7600\n",
    "\n",
    "答案："
   ]
  },
  {
   "cell_type": "markdown",
   "metadata": {},
   "source": [
    "### (17）假设一个32x32x16的输入，使用步幅为2、过滤器大小为2的最大化池操作，请问输出是多少?（选择题, 2分）\n",
    "- a. 15x15x16\n",
    "- b. 16x16x8\n",
    "- c. 16x16x16\n",
    "- d. 32x32x8\n",
    "\n",
    "答案："
   ]
  },
  {
   "cell_type": "markdown",
   "metadata": {},
   "source": [
    "### (18) “池化（pooling layer）没有参数，因而不影响反向传播的计算”，该说法是否正确？（判断题, 2分）\n",
    "\n",
    "- a.正确\n",
    "- b.错误\n",
    "\n",
    "答案:\n"
   ]
  },
  {
   "cell_type": "markdown",
   "metadata": {},
   "source": [
    "### (19) 在典型的卷积神经网络中，随着网络深度的增加，网络结构的模式是什么？(选择题，2分)\n",
    "- a. 特征图的宽度和高度增加，通道数减少。\n",
    "- b. 特征图的宽度和高度增加，通道数减少。\n",
    "- c. 特征图的宽度和高度减少，通道数增加。\n",
    "- d. 特征图的宽度和高度减少，通道数也减少。\n",
    "\n",
    "\n",
    "答案："
   ]
  },
  {
   "cell_type": "markdown",
   "metadata": {},
   "source": [
    "### （20) 关于卷积神经网络中的参数共享机制，下面哪些说话是正确的？ （多选题, 3分）\n",
    "- a. 它减少了参数的总数，从而增加了过拟合。\n",
    "- b. 它为一项任务学习的参数可直接迁移到不同的任务进行共享（迁移学习）。\n",
    "- c. 它保证了梯度下降将许多参数设置为零，从而产生连接稀疏。\n",
    "- e. 它有效地增加了模型的泛化能力。\n",
    "- f. 它使得卷积网络订制于图像处理，但仍然是全连接网络的特殊模型。\n",
    "- g. 它使得在整个输入值的多个位置使用特征检测器。\n",
    "\n",
    "答案："
   ]
  },
  {
   "cell_type": "markdown",
   "metadata": {},
   "source": [
    "### (21)  卷积神经网络中“稀疏连接”的优势是什么？（选择题, 2分）\n",
    "- a. 正则化导致梯度下降将许多参数设置为零。\n",
    "- b. 卷积网络中的每一层只连接到另外两层。\n",
    "- c. 下一层中的每个激活只依赖于前一层的少量激活。\n",
    "- d. 每个过滤器都连接到上一层的每个通道。\n",
    "\n",
    "答案："
   ]
  },
  {
   "cell_type": "markdown",
   "metadata": {},
   "source": [
    "### （22）  在构建深度卷积神经网络时，下面哪些策略是比较有效的？（多选题, 3分）\n",
    "- a. 多个池化层后面跟着的是一个卷积层。\n",
    "- b. 多个卷积层后面跟着的是一个池化层。\n",
    "- c. 全连接层（FC）位于最后的几层。\n",
    "- d. 全连接层（FC）位于开始的几层。\n",
    "- f. 卷积层采用多个卷积核，提取不同特征映射。\n",
    "- g. 卷积核的大小对特征表示没有影响，可以随意设计卷积核的尺寸。\n",
    "\n",
    "答案："
   ]
  },
  {
   "cell_type": "markdown",
   "metadata": {},
   "source": [
    "### (23) 卷积神经网络输入tensor维度为$n_H\\times n_W\\times n_C$，假设卷积核1x1, stride为1，padding为0，下面说法正确的是？（选择题，2分）\n",
    "- a. 可使用1x1的卷积核减少$n_C$,$n_H$和$n_W$\n",
    "- b. 可使用池化层减少$n_C$,但是不能减少$n_H$和$n_W$\n",
    "- c. a. 可使用1x1的卷积核来改变通道数数$n_C$,但是不能减少$n_H$和$n_W$\n",
    "- d. 可使用最大池化层减少$n_C$,$n_H$和$n_W$\n",
    "\n",
    "答案："
   ]
  },
  {
   "cell_type": "markdown",
   "metadata": {},
   "source": [
    "### (24) 卷积神经网络输入tensor维度为32x28x28 (32为通道数), 单个1x1卷积核有多少参数（包括bias）?(选择题，2分)\n",
    "- a. 2\n",
    "- b. 25089\n",
    "- c. 785\n",
    "- d. 33\n",
    "\n",
    "答案："
   ]
  },
  {
   "cell_type": "markdown",
   "metadata": {},
   "source": [
    "### (25) 残差卷积神经网络的结构特性说法正确的选项？（选择题，2分）\n",
    "- a. Shortcut连接可以让梯度传递到网络前面层中，有效缓解梯度消失问题。\n",
    "- b. 使用Shortcut连接能够帮助反向传播的梯度下降更快，从而加快网络的训练，完全消除梯度消失问题。\n",
    "- c. 有L层的残差网络一共有L乘L类的shortcut连接顺序。\n",
    "- d. Shortcut 可以减少卷积的操作，从而极大地降低网络的参数，加快计算速度。\n",
    "\n",
    "答案："
   ]
  },
  {
   "cell_type": "markdown",
   "metadata": {},
   "source": [
    "### (26)  循环神经网络中记忆单元的作用是什么？（选择题, 2分）\n",
    "- a. 记忆单元可以增加模型的参数，获得更深的模型。\n",
    "- b. 记忆单元可以获得时间序列的前后相关依赖关系。\n",
    "- c. 记忆单元可保存历史数据信息，提高模型的泛化能力。\n",
    "- d. 记忆单元可有效地解决网络过程中的梯度爆炸问题。\n",
    "\n",
    "答案："
   ]
  },
  {
   "cell_type": "markdown",
   "metadata": {},
   "source": [
    "### (27)  循环神经网络训练过程中解决梯度爆炸或消失问题的策略？（多择题, 3分）\n",
    "- a. 增加训练数据集。\n",
    "- b. 网络训练过程中采用梯度截断(Gradient clipping)手段。\n",
    "- c. 增加网络的深度。\n",
    "- d. 把网络结构中的基本单元修改为LSTM单元。\n",
    "- e. 把网络结构中的基本单元修改为GRU单元。\n",
    "\n",
    "答案："
   ]
  },
  {
   "cell_type": "markdown",
   "metadata": {},
   "source": [
    "### (28) 长短时循环神经网络（LSTM）中的门控单元描述错误的是什么？（选择题，2分）\n",
    "- a. LSTM 有遗忘门、输出门两个门控，分别控制记忆单元的信息保留和输出信息比例。\n",
    "- b. LSTM 中的输入门控单元激活函数是Sigmoid函数，可以控制输入信息的比例。\n",
    "- c. LSTM 中的长时记忆单元不需要门控，从而描述很长时间关联关系。\n",
    "- d. LSTM 中的每个门控单元激活函数可以替换为ReLU，缓解神经网络的梯度消失问题\n",
    "\n",
    "答案："
   ]
  },
  {
   "cell_type": "markdown",
   "metadata": {},
   "source": [
    "### (29) 编写Sigmoid 函数和其导数，并绘制图像。(程序设计题，4分)\n",
    "$\\sigma$代表sigmoid 函数,公式为\n",
    "$$\\sigma(z) = \\frac{1}{1+e^{-z}} \\tag{1}$$\n",
    "sigmoid 函数的导数\n",
    "$$sigmoid\\_derivative(x) = \\sigma'(x) = \\sigma(x) (1 - \\sigma(x))\\tag{2}$$"
   ]
  },
  {
   "cell_type": "code",
   "execution_count": 10,
   "metadata": {},
   "outputs": [
    {
     "data": {
      "image/png": "[encoded data removed]",
      "text/plain": [
       "<Figure size 432x288 with 1 Axes>"
      ]
     },
     "metadata": {
      "needs_background": "light"
     },
     "output_type": "display_data"
    }
   ],
   "source": [
    "def sigmoid(x): # 2分\n",
    "    \"\"\"\n",
    "    Compute the sigmoid of x\n",
    "\n",
    "    Arguments:\n",
    "    x -- A scalar or numpy array of any size\n",
    "\n",
    "    Return:\n",
    "    s -- sigmoid(x)\n",
    "    \"\"\"\n",
    "    \n",
    "    ### 设计代码的位置 ### (≈ 1 line of code)\n",
    "    \n",
    "    \n",
    "    ### END CODE HERE ###\n",
    "    \n",
    "    return s\n",
    "\n",
    "def sigmoid_derivative(x): # 2分\n",
    "    \"\"\"\n",
    "    计算sigmoid function函数相对于其输入x的梯度（也称为斜率或者导数）.\n",
    "    你可以将sigmoid function函数的输出存储到变量中，然后用它来计算梯度\n",
    "    \n",
    "    Arguments:\n",
    "    x -- 一个标量或者numpy数组\n",
    "\n",
    "    Return:\n",
    "    ds -- 你计算好的梯度\n",
    "    \"\"\"\n",
    "    \n",
    "    ### 设计代码的位置 ### (≈ 2 lines of code)\n",
    "    \n",
    "    \n",
    "    ### END CODE HERE ###\n",
    "    \n",
    "    return ds\n",
    "\n",
    "\n",
    "Xvar = np.arange(-10,10,step=0.11)\n",
    "Yvar = sigmoid(Xvar)\n",
    "Ygrad = sigmoid_derivative(Xvar)\n",
    "\n",
    "plt.plot(Xvar,Yvar,'r',label = 'Sigmoid')\n",
    "plt.plot(Xvar,Ygrad,'g',label = 'Sigmoid gradient')\n",
    "plt.xlabel('x',fontsize = 18)\n",
    "plt.ylabel('Amplitude',fontsize = 18)\n",
    "plt.title('Sigmoid function and its gradient', fontsize = 18)\n",
    "plt.legend()\n",
    "plt.grid()\n",
    "plt.show()"
   ]
  },
  {
   "cell_type": "markdown",
   "metadata": {},
   "source": [
    "### (30) 依据下面的要求，编写卷积层，BN 层，Flatten层，处理特征样本并打印输出的维度（shape）。(程序设计题，6分)"
   ]
  },
  {
   "cell_type": "code",
   "execution_count": 17,
   "metadata": {},
   "outputs": [
    {
     "name": "stdout",
     "output_type": "stream",
     "text": [
      "torch.Size([100, 64, 32, 32])\n",
      "torch.Size([100, 64, 32, 32])\n",
      "torch.Size([100, 65536])\n"
     ]
    }
   ],
   "source": [
    "x = torch.randn(100,16,32,32) # feature mapping\n",
    "\n",
    "# 程序设计1 （2分）\n",
    "# 下面设计一个卷积层神经运算：\n",
    "#    输入通道为10，输出通道为64，卷积核为3x3, 滑动步长为1，边缘填充数为1\n",
    "# 把卷积特征映射x输入卷积层处理并打印处理后的特征维度\n",
    "#%%%%%%%%%%%%%%%%%%%%%%%%%%%%%%%%%%%%%%%\n",
    "# 设计代码的位置\n",
    "\n",
    "\n",
    "#%%%%%%%%%%%%%%%%%%%%%%%%%%%%%%%%%%%%%%%\n",
    "\n",
    "\n",
    "\n",
    "# 程序设计2 （2分）\n",
    "# 下面设计一个batch normalization 层：\n",
    "# 把卷积输出的信号用BN层处理并打印处理后的特征维度\n",
    "#%%%%%%%%%%%%%%%%%%%%%%%%%%%%%%%%%%%%%%%\n",
    "# 设计代码的位置\n",
    "\n",
    "\n",
    "#%%%%%%%%%%%%%%%%%%%%%%%%%%%%%%%%%%%%%%%\n",
    "\n",
    "\n",
    "\n",
    "# 程序设计3 （2分）\n",
    "# 下面设计一个Flatten运算，把输出的特征映射转为维度（100，...）的2维tensor.\n",
    "# 把BN输出的信号变换为特定的tensor,打印处理后的特征维度\n",
    "#%%%%%%%%%%%%%%%%%%%%%%%%%%%%%%%%%%%%%%%\n",
    "# 设计代码的位置\n",
    "\n",
    "\n",
    "#%%%%%%%%%%%%%%%%%%%%%%%%%%%%%%%%%%%%%%%\n"
   ]
  },
  {
   "cell_type": "markdown",
   "metadata": {},
   "source": [
    "### （31）利用Torch框架的RNN类和LSTM类设计时序处理模型并分析输入tensor 。(程序设计题，3分)"
   ]
  },
  {
   "cell_type": "code",
   "execution_count": 22,
   "metadata": {},
   "outputs": [
    {
     "name": "stdout",
     "output_type": "stream",
     "text": [
      "torch.Size([10, 6, 64])\n",
      "torch.Size([2, 6, 64])\n",
      "torch.Size([10, 6, 32])\n",
      "torch.Size([4, 6, 32])\n",
      "torch.Size([4, 6, 32])\n"
     ]
    }
   ],
   "source": [
    "x = torch.randn(10,6,128) # [sequence length, batch size, feature length]\n",
    "\n",
    "# 程序设计1 （1分）\n",
    "# 利用nn.RNN设计一个2层的时序运算：\n",
    "#    隐单元h1和h2的长度为64\n",
    "#%%%%%%%%%%%%%%%%%%%%%%%%%%%%%%%%%%%%%%%\n",
    "# 设计代码的位置\n",
    "\n",
    "\n",
    "#%%%%%%%%%%%%%%%%%%%%%%%%%%%%%%%%%%%%%%%\n",
    "out, h = RNN(x, torch.zeros(2,6,64))\n",
    "print(out.shape)\n",
    "print(h.shape)\n",
    "\n",
    "\n",
    "# 程序设计2 （2分）\n",
    "# 利用nn.LSTM设计一个4层的时序运算：\n",
    "#    每层的隐单元h和c的长度均为32\n",
    "# 把变量x输入lstm单元中，帮打印输出out, h, 和c的shape\n",
    "#%%%%%%%%%%%%%%%%%%%%%%%%%%%%%%%%%%%%%%%\n",
    "# 设计代码的位置\n",
    "\n",
    "\n",
    "#%%%%%%%%%%%%%%%%%%%%%%%%%%%%%%%%%%%%%%%\n",
    "print(out.shape)\n",
    "print(h.shape)\n",
    "print(c.shape)"
   ]
  },
  {
   "cell_type": "markdown",
   "metadata": {},
   "source": [
    "## （二）分类案例（依据要求补充代码  23分）\n",
    "1.数据集描述。\n",
    "  MNIST数据集由图灵奖获得者Yann LeCun搜集，是一个大型的手写体数字数据库，通常用于训练各种图像处理系统，也被广泛用于机器学习领域的训练和测试。MNIST数据库中的图像集是NIST（National Institute of Standards and Technology）的两个数据库的组合：专用数据库1和特殊数据库3。数据集是有250人手写数字组成，一半是高中生，一半是美国人口普查局。\n",
    "\n",
    "MNIST数据集共有训练数据60000张图片、测试数据10000图片。每张图像的大小为28*28（像素），每张图像都为灰度图像。\n",
    "\n",
    "MNIST数据集包含4个文件，train文件是训练数据集，t10k是测试数据集，images文件是图像文件，lables文件是对应的标签文件。\n",
    "\n",
    "train-images-idx3-ubyte.gz: training set images (9912422 bytes)\n",
    "\n",
    "train-labels-idx1-ubyte.gz: training set labels (28881 bytes)\n",
    "\n",
    "t10k-images-idx3-ubyte.gz: test set images (1648877 bytes)\n",
    "\n",
    "t10k-labels-idx1-ubyte.gz: test set labels (4542 bytes)\n",
    "\n",
    "\n",
    "2.任务描述：利用MNIST数据集中的6万中图片训练一个深度网络，使得训练的模型在测试集上的精度到达95%以上。\n",
    "\n",
    "3.模型：采用深度卷积神经网络模型。\n",
    "\n",
    "4.算法：采用Adam优化求解器。\n"
   ]
  },
  {
   "cell_type": "code",
   "execution_count": 2,
   "metadata": {},
   "outputs": [],
   "source": [
    "# 超参数配置\n",
    "epoches = 3  # 迭代次数\n",
    "batch_size = 64  # mini-batch 数据块的尺寸大小\n",
    "learning_rate = 0.01  # 梯度下降算法的学习率\n"
   ]
  },
  {
   "cell_type": "code",
   "execution_count": 3,
   "metadata": {
    "scrolled": true
   },
   "outputs": [],
   "source": [
    "# 程序设计1 （4分）\n",
    "# 读入MNIST数据集,并利用torch.utils.data.DataLoader设计训练集和测试集\n",
    "#%%%%%%%%%%%%%%%%%%%%%%%%%%%%%%%%%%%%%%%\n",
    "# 设计代码的位置\n",
    "\n",
    "\n",
    "#%%%%%%%%%%%%%%%%%%%%%%%%%%%%%%%%%%%%%%%\n"
   ]
  },
  {
   "cell_type": "code",
   "execution_count": 4,
   "metadata": {},
   "outputs": [
    {
     "data": {
      "image/png": "[encoded data removed]",
      "text/plain": [
       "<Figure size 432x288 with 1 Axes>"
      ]
     },
     "metadata": {
      "needs_background": "light"
     },
     "output_type": "display_data"
    }
   ],
   "source": [
    "# 绘制单个数据样本\n",
    "data = iter(train_loader) # 确定数据的索引\n",
    "(a,b) = next(data) # 获得索引的下一个数据\n",
    "b = a.numpy() # 转换为numpy格式，方便绘图\n",
    "c = b[3,0,...] # 取出一个图片的数据\n",
    "figure = plt.figure()\n",
    "plt.imshow(c,cmap = 'gray')\n",
    "plt.show()"
   ]
  },
  {
   "cell_type": "code",
   "execution_count": 5,
   "metadata": {},
   "outputs": [
    {
     "data": {
      "image/png": "[encoded data removed]",
      "text/plain": [
       "<Figure size 432x288 with 64 Axes>"
      ]
     },
     "metadata": {
      "needs_background": "light"
     },
     "output_type": "display_data"
    }
   ],
   "source": [
    "# 绘制多个数据样本\n",
    "data = iter(train_loader) # 确定数据的索引\n",
    "(a,b) = next(data) # 获得索引的下一个数据\n",
    "b = a.numpy() # 转换为numpy格式，方便绘图\n",
    "\n",
    "figure = plt.figure()\n",
    "for i in range(64):\n",
    "    plt.subplot(8,8, i+1)\n",
    "    plt.subplots_adjust(wspace = 0.1, hspace = 0.1)\n",
    "    c = b[i,0,...] # 取出一个图片的数据\n",
    "    plt.imshow(c,cmap = 'gray')\n",
    "    plt.axis('off')\n",
    "plt.show()"
   ]
  },
  {
   "cell_type": "code",
   "execution_count": 6,
   "metadata": {},
   "outputs": [],
   "source": [
    "# 深度卷积网络模型设计\n",
    "class Flatten(nn.Module):\n",
    "    '''\n",
    "    定义展平运算，为卷积层输出和全连接层的输入进行数据转换\n",
    "    '''\n",
    "    def __init__(self):\n",
    "        super(Flatten,self).__init__()\n",
    "        \n",
    "    def forward(self,input):\n",
    "        return input.view(input.size(0),-1)\n",
    "\n",
    "\n",
    "class DeepConvolutionNetwork(nn.Module):\n",
    "    def __init__(self):\n",
    "        super(DeepConvolutionNetwork,self).__init__()\n",
    "        self.conv1 = nn.Sequential(\n",
    "            nn.Conv2d(in_channels=1,out_channels=10,kernel_size=5,stride=1,padding=1),\n",
    "            nn.MaxPool2d(2),\n",
    "            nn.ReLU(),\n",
    "            nn.BatchNorm2d(10)\n",
    "        )\n",
    "        \n",
    "        # 程序设计2 （5分）\n",
    "        # 下面设计一个卷积层神经元：\n",
    "        #    输入通道为10，输出通道为20，卷积核为5x5, 滑动步长为1，边缘填充数为1，\n",
    "        #    采用窗口宽度为2x2的最大池化操作，激活函数为ReLU,\n",
    "        #    最后为BatchNorm运算\n",
    "        #%%%%%%%%%%%%%%%%%%%%%%%%%%%%%%%%%%%%%%%\n",
    "        # 设计代码的位置\n",
    "        \n",
    "        \n",
    "        \n",
    "        \n",
    "        \n",
    "        #%%%%%%%%%%%%%%%%%%%%%%%%%%%%%%%%%%%%%%%\n",
    "        \n",
    "        self.FlattenOperation = Flatten()\n",
    "        \n",
    "        self.fc1 = nn.Sequential(\n",
    "            nn.Linear(500,60),\n",
    "            nn.Dropout(0.5),\n",
    "            nn.ReLU()\n",
    "        )\n",
    "        \n",
    "        # 程序设计3 （3分）\n",
    "        # 下面设计一个线性层神经元：\n",
    "        #    输出为20，采用Dropout运算，激活函数为ReLU；\n",
    "        #%%%%%%%%%%%%%%%%%%%%%%%%%%%%%%%%%%%%%%%\n",
    "        # 设计代码的位置\n",
    "        \n",
    "        \n",
    "        \n",
    "        #%%%%%%%%%%%%%%%%%%%%%%%%%%%%%%%%%%%%%%%\n",
    "        \n",
    "        self.fc3 = nn.Linear(20,10)\n",
    "    \n",
    "    # 程序设计4 （5分）\n",
    "    # 设计前向传播模型：模型构成如下：\n",
    "    #    Conv1(卷积层1)+conv2（卷积层2）+ flatten （展平层）+ fc1（全连接层1） + fc2(全连接层2) + fc3(线性层)\n",
    "    def forward(self,x):\n",
    "        \n",
    "    #%%%%%%%%%%%%%%%%%%%%%%%%%%%%%%%%%%%%%%%\n",
    "    # 设计代码的位置\n",
    "    \n",
    "    \n",
    "    \n",
    "    \n",
    "    \n",
    "        \n",
    "    #%%%%%%%%%%%%%%%%%%%%%%%%%%%%%%%%%%%%%%%\n",
    "        return x\n",
    "        "
   ]
  },
  {
   "cell_type": "code",
   "execution_count": 7,
   "metadata": {},
   "outputs": [
    {
     "name": "stdout",
     "output_type": "stream",
     "text": [
      "DeepConvolutionNetwork(\n",
      "  (conv1): Sequential(\n",
      "    (0): Conv2d(1, 10, kernel_size=(5, 5), stride=(1, 1), padding=(1, 1))\n",
      "    (1): MaxPool2d(kernel_size=2, stride=2, padding=0, dilation=1, ceil_mode=False)\n",
      "    (2): ReLU()\n",
      "    (3): BatchNorm2d(10, eps=1e-05, momentum=0.1, affine=True, track_running_stats=True)\n",
      "  )\n",
      "  (conv2): Sequential(\n",
      "    (0): Conv2d(10, 20, kernel_size=(5, 5), stride=(1, 1), padding=(1, 1))\n",
      "    (1): MaxPool2d(kernel_size=2, stride=2, padding=0, dilation=1, ceil_mode=False)\n",
      "    (2): ReLU()\n",
      "    (3): BatchNorm2d(20, eps=1e-05, momentum=0.1, affine=True, track_running_stats=True)\n",
      "  )\n",
      "  (FlattenOperation): Flatten()\n",
      "  (fc1): Sequential(\n",
      "    (0): Linear(in_features=500, out_features=60, bias=True)\n",
      "    (1): Dropout(p=0.5, inplace=False)\n",
      "    (2): ReLU()\n",
      "  )\n",
      "  (fc2): Sequential(\n",
      "    (0): Linear(in_features=60, out_features=20, bias=True)\n",
      "    (1): Dropout(p=0.5, inplace=False)\n",
      "    (2): ReLU()\n",
      "  )\n",
      "  (fc3): Linear(in_features=20, out_features=10, bias=True)\n",
      ")\n"
     ]
    }
   ],
   "source": [
    "model = DeepConvolutionNetwork()\n",
    "\n",
    "# 程序设计5 （2分）\n",
    "# 设计交叉熵损失函数\n",
    "#%%%%%%%%%%%%%%%%%%%%%%%%%%%%%%%%%%%%%%%\n",
    "# 设计代码的位置\n",
    "\n",
    "\n",
    "#%%%%%%%%%%%%%%%%%%%%%%%%%%%%%%%%%%%%%%%\n",
    "\n",
    "\n",
    "# 程序设计6 （2分）\n",
    "# 设计Adam优化器，采用学习率learning_rate, L2正则的权重衰减系数为0.01\n",
    "#%%%%%%%%%%%%%%%%%%%%%%%%%%%%%%%%%%%%%%%\n",
    "# 设计代码的位置\n",
    "\n",
    "\n",
    "#%%%%%%%%%%%%%%%%%%%%%%%%%%%%%%%%%%%%%%%\n",
    "\n",
    "print(model)\n"
   ]
  },
  {
   "cell_type": "code",
   "execution_count": 8,
   "metadata": {},
   "outputs": [
    {
     "name": "stdout",
     "output_type": "stream",
     "text": [
      "Train Epoch:0 [0/60000 0%)]\tLoss: 2.325943\n",
      "Train Epoch:0 [6400/60000 11%)]\tLoss: 0.990000\n",
      "Train Epoch:0 [12800/60000 21%)]\tLoss: 0.362572\n",
      "Train Epoch:0 [19200/60000 32%)]\tLoss: 0.785846\n",
      "Train Epoch:0 [25600/60000 43%)]\tLoss: 0.629368\n",
      "Train Epoch:0 [32000/60000 53%)]\tLoss: 0.494146\n",
      "Train Epoch:0 [38400/60000 64%)]\tLoss: 0.627182\n",
      "Train Epoch:0 [44800/60000 75%)]\tLoss: 0.384434\n",
      "Train Epoch:0 [51200/60000 85%)]\tLoss: 0.295878\n",
      "Train Epoch:0 [57600/60000 96%)]\tLoss: 0.443121\n",
      "test epoch 0 test classification acc: 0.9569\n",
      "Train Epoch:1 [0/60000 0%)]\tLoss: 0.631713\n",
      "Train Epoch:1 [6400/60000 11%)]\tLoss: 0.508486\n",
      "Train Epoch:1 [12800/60000 21%)]\tLoss: 0.614390\n",
      "Train Epoch:1 [19200/60000 32%)]\tLoss: 0.519524\n",
      "Train Epoch:1 [25600/60000 43%)]\tLoss: 0.504130\n",
      "Train Epoch:1 [32000/60000 53%)]\tLoss: 0.412890\n",
      "Train Epoch:1 [38400/60000 64%)]\tLoss: 0.431027\n",
      "Train Epoch:1 [44800/60000 75%)]\tLoss: 0.647241\n",
      "Train Epoch:1 [51200/60000 85%)]\tLoss: 0.606162\n",
      "Train Epoch:1 [57600/60000 96%)]\tLoss: 0.549558\n",
      "test epoch 1 test classification acc: 0.96\n",
      "Train Epoch:2 [0/60000 0%)]\tLoss: 0.457502\n",
      "Train Epoch:2 [6400/60000 11%)]\tLoss: 0.363362\n",
      "Train Epoch:2 [12800/60000 21%)]\tLoss: 0.463687\n",
      "Train Epoch:2 [19200/60000 32%)]\tLoss: 0.632584\n",
      "Train Epoch:2 [25600/60000 43%)]\tLoss: 0.310658\n",
      "Train Epoch:2 [32000/60000 53%)]\tLoss: 0.431143\n",
      "Train Epoch:2 [38400/60000 64%)]\tLoss: 0.445081\n",
      "Train Epoch:2 [44800/60000 75%)]\tLoss: 0.347828\n",
      "Train Epoch:2 [51200/60000 85%)]\tLoss: 0.347416\n",
      "Train Epoch:2 [57600/60000 96%)]\tLoss: 0.656767\n",
      "test epoch 2 test classification acc: 0.9584\n"
     ]
    }
   ],
   "source": [
    "lossRecord = []\n",
    "for epoch in range(epoches):\n",
    "    model.train() \n",
    "    for batch_idx, (x,label) in enumerate(train_loader):\n",
    "        #x,label = x.to(device), label.to(device)\n",
    "        logits = model(x)\n",
    "        loss = lossfun(logits,label)\n",
    "        lossRecord.append(loss.detach().numpy())\n",
    "        \n",
    "        \n",
    "        optimizer.zero_grad()\n",
    "        # 程序设计7 （2分）\n",
    "        # 调用后向传播算法，利用Adam优化器进行更新\n",
    "        #%%%%%%%%%%%%%%%%%%%%%%%%%%%%%%%%%%%%%%%\n",
    "        # 设计代码的位置\n",
    "        \n",
    "        \n",
    "        #%%%%%%%%%%%%%%%%%%%%%%%%%%%%%%%%%%%%%%%\n",
    "        \n",
    "        if batch_idx % 100 == 0:\n",
    "            print('Train Epoch:{} [{}/{} {:.0f}%)]\\tLoss: {:.6f}'.format(\n",
    "                epoch, batch_idx*len(x), len(train_loader.dataset),\n",
    "                100.*batch_idx/len(train_loader), loss.item() ))\n",
    "    \n",
    "    model.eval()\n",
    "    with torch.no_grad():\n",
    "        test_correct = 0\n",
    "        total_num = 0\n",
    "        for x, label in test_loader:\n",
    "            #x,label = x.to(device), label.to(device)\n",
    "            \n",
    "            logits = model(x)\n",
    "            pred = logits.argmax(dim =1)\n",
    "            test_correct += torch.eq(pred,label).float().sum().item()\n",
    "            total_num += x.size(0)\n",
    "        \n",
    "        acc = test_correct / total_num\n",
    "        print('test epoch',epoch, 'test classification acc:', acc)\n",
    "\n"
   ]
  },
  {
   "cell_type": "code",
   "execution_count": 9,
   "metadata": {},
   "outputs": [
    {
     "data": {
      "image/png": "[encoded data removed]",
      "text/plain": [
       "<Figure size 600x400 with 1 Axes>"
      ]
     },
     "metadata": {
      "needs_background": "light"
     },
     "output_type": "display_data"
    }
   ],
   "source": [
    "# 绘制损失曲线\n",
    "figure = plt.figure(figsize = (6,4), dpi=100)\n",
    "plt.plot(np.arange(len(lossRecord)),lossRecord)\n",
    "plt.xlabel('Epochs')\n",
    "plt.ylabel('Loss value')\n",
    "plt.title('loss curve')\n",
    "plt.grid(alpha=0.6)\n",
    "plt.show()"
   ]
  }
 ],
 "metadata": {
  "kernelspec": {
   "display_name": "Python 3 (ipykernel)",
   "language": "python",
   "name": "python3"
  },
  "language_info": {
   "codemirror_mode": {
    "name": "ipython",
    "version": 3
   },
   "file_extension": ".py",
   "mimetype": "text/x-python",
   "name": "python",
   "nbconvert_exporter": "python",
   "pygments_lexer": "ipython3",
   "version": "3.9.13"
  }
 },
 "nbformat": 4,
 "nbformat_minor": 2
}
